{
 "cells": [
  {
   "cell_type": "code",
   "execution_count": null,
   "metadata": {},
   "outputs": [],
   "source": [
    "import os\n",
    "import cv2"
   ]
  },
  {
   "cell_type": "markdown",
   "metadata": {},
   "source": [
    "# Making useful definitions "
   ]
  },
  {
   "cell_type": "markdown",
   "metadata": {},
   "source": [
    "make_dirs will check if a directory exist based on a given path. If directory does no exist a directory will be created based on the path provided. "
   ]
  },
  {
   "cell_type": "code",
   "execution_count": null,
   "metadata": {},
   "outputs": [],
   "source": [
    "def make_dirs(path):\n",
    "    if not os.path.exists(path):\n",
    "        os.makedirs(path)"
   ]
  },
  {
   "cell_type": "markdown",
   "metadata": {},
   "source": [
    "split will seperate a given video into individal frames saved in png format."
   ]
  },
  {
   "cell_type": "code",
   "execution_count": null,
   "metadata": {},
   "outputs": [],
   "source": [
    "def split(vid,save_location):\n",
    "    index = 0 # counter used to name frames\n",
    "    while(True): # loop through entire video\n",
    "        ret, frame = vid.read() # read in video\n",
    "        if not ret: \n",
    "            break\n",
    "        name = save_location+'/' + str(index) + '.png' # set path and file name of frame\n",
    "        cv2.imwrite(name, frame) # save individual frame\n",
    "        index += 1 # increment counter"
   ]
  },
  {
   "cell_type": "markdown",
   "metadata": {},
   "source": [
    "# Putting it all together"
   ]
  },
  {
   "cell_type": "code",
   "execution_count": null,
   "metadata": {},
   "outputs": [],
   "source": [
    "folders = ['Videos','Images'] # Creating an array of strings Videos, Images to set paths to input and save locations\n",
    "months = [\"%.2d\" % i for i in range(1,13)] # Creats an array in specific format for months in 01,02,03, ... , 11,12\n",
    "years = [\"20%.2d\" % i for i in range(15,16)] # Creats an array in specific format for years in 2016,2017 ... , 2019, ect"
   ]
  },
  {
   "cell_type": "code",
   "execution_count": null,
   "metadata": {},
   "outputs": [],
   "source": [
    "for j in range(len(months)): # loops through length of months \n",
    "    input_path = '/Users/josue/Desktop/Data/Site1/15/'+folders[0]+'/'+years[0]+months[j]+'/' # set the input path \n",
    "    videos = [f for f in listdir(input_path) if isfile(join(input_path, f))] # makes a list of directory contents\n",
    "    for i in range(len(videos)):# loops through length of videos \n",
    "        input_location = input_path+videos[i] # sets input location path \n",
    "        save_path = '/Users/josue/Desktop/Data/Site1/15/'+folders[1]+'/'+years[0]+months[j]+'/' # setting up save path\n",
    "        save_location = save_path+videos[i] # sets final save path\n",
    "        make_dirs(save_location) # checks if directoy exist if makes directory if it doesnt exist\n",
    "        vid = cv2.VideoCapture(input_location) # loads video and reads it\n",
    "        split(vid,save_location) # splits video into individual frames \n",
    "    print('Completed Splitting Videos for Month',months[j]) # prints progress of completion by months "
   ]
  }
 ],
 "metadata": {
  "kernelspec": {
   "display_name": "Python 3",
   "language": "python",
   "name": "python3"
  },
  "language_info": {
   "codemirror_mode": {
    "name": "ipython",
    "version": 3
   },
   "file_extension": ".py",
   "mimetype": "text/x-python",
   "name": "python",
   "nbconvert_exporter": "python",
   "pygments_lexer": "ipython3",
   "version": "3.7.4"
  }
 },
 "nbformat": 4,
 "nbformat_minor": 2
}
