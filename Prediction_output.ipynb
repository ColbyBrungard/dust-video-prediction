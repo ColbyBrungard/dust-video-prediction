{
 "cells": [
  {
   "cell_type": "code",
   "execution_count": null,
   "metadata": {},
   "outputs": [],
   "source": [
    "import os \n",
    "import tensorflow as tf\n",
    "from sklearn.externals import joblib"
   ]
  },
  {
   "cell_type": "markdown",
   "metadata": {},
   "source": [
    "# Setting up paths to images and labels "
   ]
  },
  {
   "cell_type": "code",
   "execution_count": null,
   "metadata": {},
   "outputs": [],
   "source": [
    "load_path = '/Users/josue/Desktop/' # main path\n",
    "Validation_images = joblib.load(load_path+\"Hue_Saturation_Value_Band_Validation_Images\").values # path to image\n",
    "Validation_labels = joblib.load(load_path+\"Hue_Saturation_Value_Band_Validation_Labels\").values # path to labels\n",
    "\n",
    "print(Validation_images.shape)\n",
    "print(Validation_labels.shape)"
   ]
  },
  {
   "cell_type": "markdown",
   "metadata": {},
   "source": [
    "# Setting up TensorFlow session for validation"
   ]
  },
  {
   "cell_type": "code",
   "execution_count": null,
   "metadata": {},
   "outputs": [],
   "source": [
    "x_validation = tf.placeholder(tf.float32, [None, Validation_images.shape[1]]) # placeholder for new input data\n",
    "logits = tf.matmul(x_validation, weight) + bias  # sets up linear model\n",
    "y_pred = tf.nn.softmax(logits) # activation function use softmax for multiple classification use sigmoid for binary\n",
    "y_pred_cls = tf.argmax(y_pred, axis=1) # argmax shows the index that has the highest output"
   ]
  },
  {
   "cell_type": "code",
   "execution_count": null,
   "metadata": {},
   "outputs": [],
   "source": [
    "session = tf.Session() # creating tensor flow session \n",
    "session.run(tf.global_variables_initializer())  # initializing tensor flow session \n",
    "feed_dict_val = {x_validation: Validation_images} # feed label and images to session\n",
    "prediction = session.run(y_pred_cls, feed_dict=feed_dict_val) # run sessino\n",
    "print(prediction) # print predictions \n",
    "print(len(prediction)) # print number of predictions "
   ]
  },
  {
   "cell_type": "markdown",
   "metadata": {},
   "source": [
    "# Creating Text File of Storm Times"
   ]
  },
  {
   "cell_type": "code",
   "execution_count": null,
   "metadata": {},
   "outputs": [],
   "source": [
    "Date = '06/15/2015'  # input date of video\n",
    "SS = 7   # input the second the video starts. EX.) 12:10:07 Am then input 7\n",
    "frame_rate = 10. # input frame rate of video\n",
    "\n",
    "cnt = 0  # counter\n",
    "time = []  # placeholder for time \n",
    "Class = [] # placeholder for predicted class"
   ]
  },
  {
   "cell_type": "markdown",
   "metadata": {},
   "source": [
    "# Loop throught predictions and set intervals of storm"
   ]
  },
  {
   "cell_type": "code",
   "execution_count": null,
   "metadata": {},
   "outputs": [],
   "source": [
    "for i in range(len(prediction)):\n",
    "    old = prediction[i-1] # previous prediction\n",
    "    new = prediction[i] # new prediction\n",
    "    if old != new: # if class prediction does not change  \n",
    "        time.append(Time(SS)) # save time \n",
    "#         print('change',old,new,'Class = {}'.format(prediction[i]))\n",
    "        Class.append(prediction[i]) # save class\n",
    "    SS += frame_rate # increment SS by framerate"
   ]
  },
  {
   "cell_type": "markdown",
   "metadata": {},
   "source": [
    "# Create txt file of predicted storms"
   ]
  },
  {
   "cell_type": "code",
   "execution_count": null,
   "metadata": {},
   "outputs": [],
   "source": [
    "with open('/Users/josue/Desktop/out.txt', 'w') as f:\n",
    "    print(\"Date\",\"Start_Time\",\"End_Time\",\"Class\", file=f)\n",
    "for i in range(len(time)): # loop through all time iterations\n",
    "    if Class[i] == 0:\n",
    "        Label = \"Non_Dust\" # label non dust frames\n",
    "    else:\n",
    "        Label = \"Dust\" # label dust frames\n",
    "    \n",
    "    if i == len(time)-1:\n",
    "        break # break loop on last frame\n",
    "    else:\n",
    "        print(Date,time[i],time[i+1],Label) # print prediction duration\n",
    "        # save txt file\n",
    "        with open('/Users/josue/Desktop/out.txt', 'a') as f:\n",
    "            print(Date,time[i],time[i+1],Label, file=f)\n",
    "f.close()"
   ]
  }
 ],
 "metadata": {
  "kernelspec": {
   "display_name": "Python 3",
   "language": "python",
   "name": "python3"
  },
  "language_info": {
   "codemirror_mode": {
    "name": "ipython",
    "version": 3
   },
   "file_extension": ".py",
   "mimetype": "text/x-python",
   "name": "python",
   "nbconvert_exporter": "python",
   "pygments_lexer": "ipython3",
   "version": "3.7.4"
  }
 },
 "nbformat": 4,
 "nbformat_minor": 2
}
