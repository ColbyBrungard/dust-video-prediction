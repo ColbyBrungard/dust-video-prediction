{
 "cells": [
  {
   "cell_type": "code",
   "execution_count": null,
   "metadata": {},
   "outputs": [],
   "source": [
    "import os\n",
    "import pandas as pd\n",
    "import numpy as np\n",
    "import matplotlib.image as mpimg\n",
    "from skimage import color\n",
    "from sklearn.externals import joblib\n",
    "from skimage.transform import rescale"
   ]
  },
  {
   "cell_type": "markdown",
   "metadata": {},
   "source": [
    "# Setting path to data"
   ]
  },
  {
   "cell_type": "code",
   "execution_count": null,
   "metadata": {},
   "outputs": [],
   "source": [
    "Training_path = '/scratch/josue/Data/Training/' # path to training data\n",
    "Test_path = '/scratch/josue/Data/Testing/' # path to testing data \n",
    "Validation_path = '/scratch/josue/Data/Validation_Data/' # path to validation data \n",
    "# print paths to data\n",
    "print(Training_path)\n",
    "print(Test_path)\n",
    "print(Validation_path)"
   ]
  },
  {
   "cell_type": "markdown",
   "metadata": {},
   "source": [
    "## Scaling Coefficient"
   ]
  },
  {
   "cell_type": "code",
   "execution_count": null,
   "metadata": {},
   "outputs": [],
   "source": [
    "C = 0.1 # scaling coefficient"
   ]
  },
  {
   "cell_type": "markdown",
   "metadata": {},
   "source": [
    "## Listing directory contents"
   ]
  },
  {
   "cell_type": "code",
   "execution_count": null,
   "metadata": {},
   "outputs": [],
   "source": [
    "Training_list = os.listdir(Training_path) # extract list of directory content\n",
    "Testing_list = os.listdir(Test_path) # extract list of directory content\n",
    "Validation_list = os.listdir(Validation_path) # extract list of directory content"
   ]
  },
  {
   "cell_type": "markdown",
   "metadata": {},
   "source": [
    "# Useful definitions"
   ]
  },
  {
   "cell_type": "markdown",
   "metadata": {},
   "source": [
    "extract_bands takes in an image and band name scalling the image and reshaping image into a 1D array."
   ]
  },
  {
   "cell_type": "code",
   "execution_count": null,
   "metadata": {},
   "outputs": [],
   "source": [
    "def extract_bands(image,band):\n",
    "    if band == 'Red':\n",
    "        I = mpimg.imread(image) # read in image\n",
    "        I = rescale(I,C) # scale image\n",
    "        I = I[:,:,0] # extracts band\n",
    "        shape = I.shape # get shape of I\n",
    "        I = np.reshape(I,(shape[0]*shape[1])) # reshape image to 1D array\n",
    "    if band == 'Green':\n",
    "        I = mpimg.imread(image) # read in image\n",
    "        I = rescale(I,C) # scale image\n",
    "        I = I[:,:,1] # extracts band\n",
    "        shape = I.shape # get shape of I\n",
    "        I = np.reshape(I,(shape[0]*shape[1])) # reshape image to 1D array\n",
    "    if band == 'Blue':\n",
    "        I = mpimg.imread(image) # read in image\n",
    "        I = rescale(I,C) # scale image\n",
    "        I = I[:,:,2] # extracts band\n",
    "        shape = I.shape # get shape of I\n",
    "        I = np.reshape(I,(shape[0]*shape[1])) # reshape image to 1D array\n",
    "    if (band == 'Red_Green') or (band == 'Green_Red'):\n",
    "        I = mpimg.imread(image) # read in image\n",
    "        I = rescale(I,C) # scale image\n",
    "        shape = I.shape # get shape of I\n",
    "        band1 = np.reshape(I[:,:,0],(shape[0]*shape[1])) # extracts band\n",
    "        band2 = np.reshape(I[:,:,1],(shape[0]*shape[1])) # extracts band\n",
    "        I = np.concatenate((band1, band2), axis=0) # combine bands \n",
    "    if (band == 'Red_Blue') or (band == 'Blue_Red'):\n",
    "        I = mpimg.imread(image) # read in image\n",
    "        I = rescale(I,C) # scale image\n",
    "        shape = I.shape # get shape of I\n",
    "        band1 = np.reshape(I[:,:,0],(shape[0]*shape[1])) # extracts band\n",
    "        band2 = np.reshape(I[:,:,2],(shape[0]*shape[1])) # extracts band\n",
    "        I = np.concatenate((band1, band2), axis=0) # combine bands\n",
    "    if (band == 'Green_Blue') or (band == 'Blue_Green'):\n",
    "        I = mpimg.imread(image) # read in image\n",
    "        I = rescale(I,C) # scale image\n",
    "        shape = I.shape # get shape of I\n",
    "        band1 = np.reshape(I[:,:,1],(shape[0]*shape[1])) # extracts band\n",
    "        band2 = np.reshape(I[:,:,2],(shape[0]*shape[1])) # extracts band\n",
    "        I = np.concatenate((band1, band2), axis=0) # combine bands\n",
    "    if band == 'Red_Green_Blue':\n",
    "        I = mpimg.imread(image) # read in image\n",
    "        I = rescale(I,C) # scale image\n",
    "        shape = I.shape # get shape of I\n",
    "        I = np.reshape(I,(shape[0]*shape[1]*shape[2])) # reshape image into 1D array\n",
    "\n",
    "# HSV bands\n",
    "    if band == 'Hue':\n",
    "        I = mpimg.imread(image) # read in image\n",
    "        I = rescale(I,C) # scale image\n",
    "        I = color.rgb2hsv(I) # color change rgb to hsv\n",
    "        I = I[:,:,0] # extracts band\n",
    "        shape = I.shape # get shape of I\n",
    "        I = np.reshape(I,(shape[0]*shape[1])) # reshape image to 1D array\n",
    "    if band == 'Saturation':\n",
    "        I = mpimg.imread(image) # read in image\n",
    "        I = rescale(I,C) # scale image\n",
    "        I = color.rgb2hsv(I) # color change rgb to hsv\n",
    "        I = I[:,:,1] # extracts band\n",
    "        shape = I.shape # get shape of I\n",
    "        I = np.reshape(I,(shape[0]*shape[1])) # reshape image to 1D array\n",
    "    if band == 'Value':\n",
    "        I = mpimg.imread(image) # read in image\n",
    "        I = rescale(I,C) # scale image\n",
    "        I = color.rgb2hsv(I) # color change rgb to hsv\n",
    "        I = I[:,:,2] # extracts band\n",
    "        shape = I.shape # get shape of I\n",
    "        I = np.reshape(I,(shape[0]*shape[1])) # reshape image to 1D array\n",
    "    if (band == 'Hue_Saturation') or (band == 'Saturation_Hue'):\n",
    "        I = mpimg.imread(image) # read in image\n",
    "        I = rescale(I,C) # scale image\n",
    "        I = color.rgb2hsv(I) # color change rgb to hsv\n",
    "        shape = I.shape # get shape of I\n",
    "        band1 = np.reshape(I[:,:,0],(shape[0]*shape[1])) # extracts band\n",
    "        band2 = np.reshape(I[:,:,1],(shape[0]*shape[1])) # extracts band\n",
    "        I = np.concatenate((band1, band2), axis=0) # combine bands\n",
    "    if (band == 'Hue_Value') or (band == 'Value_Hue'):\n",
    "        I = mpimg.imread(image) # read in image\n",
    "        I = rescale(I,C) # scale image\n",
    "        I = color.rgb2hsv(I) # color change rgb to hsv\n",
    "        shape = I.shape # get shape of I\n",
    "        band1 = np.reshape(I[:,:,0],(shape[0]*shape[1])) # extracts band\n",
    "        band2 = np.reshape(I[:,:,2],(shape[0]*shape[1])) # extracts band\n",
    "        I = np.concatenate((band1, band2), axis=0) # combine bands\n",
    "    if (band == 'Saturation_Value') or (band == 'Value_Saturation'):\n",
    "        I = mpimg.imread(image) # read in image\n",
    "        I = rescale(I,C) # scale image\n",
    "        I = color.rgb2hsv(I) # color change rgb to hsv\n",
    "        shape = I.shape # get shape of I\n",
    "        band1 = np.reshape(I[:,:,1],(shape[0]*shape[1])) # extracts band\n",
    "        band2 = np.reshape(I[:,:,2],(shape[0]*shape[1])) # extracts band\n",
    "        I = np.concatenate((band1, band2), axis=0) # combine bands\n",
    "    if band == 'Hue_Saturation_Value':\n",
    "        I = mpimg.imread(image) # read in image\n",
    "        I = rescale(I,C) # scale image\n",
    "        I = color.rgb2hsv(I) # color change rgb to hsv\n",
    "        shape = I.shape # get shape of I\n",
    "        I = np.reshape(I,(shape[0]*shape[1]*shape[2])) # reshape image into 1D array\n",
    "    return I # return 1D array of image"
   ]
  },
  {
   "cell_type": "markdown",
   "metadata": {},
   "source": [
    "create_data_frames takes incoming 1D array, list of images and directory of images"
   ]
  },
  {
   "cell_type": "code",
   "execution_count": null,
   "metadata": {},
   "outputs": [],
   "source": [
    "def create_data_frames(band,List,Path):\n",
    "    Images_Frame = pd.DataFrame() # dataframe for images \n",
    "    Labels_Frame = pd.DataFrame() # dataframe of labels\n",
    "\n",
    "    cnt = 0\n",
    "    for i in List: # this is list of images \n",
    "        image = Path+i # file to image\n",
    "        I = extract_bands(image,band) # extracts bands from images\n",
    "        Images_Frame[cnt] = I # sets array into pandas data frame\n",
    "        if i[0:3] == 'non':\n",
    "            Labels_Frame[cnt] = [0,1] # list label is [dust,non_dust] so a 'non_dust' image is [0,1]\n",
    "        else:\n",
    "            Labels_Frame[cnt] = [1,0] # list label is [dust,non_dust] so a 'dust' image is [1,0]\n",
    "        cnt += 1\n",
    "    return Images_Frame,Labels_Frame"
   ]
  },
  {
   "cell_type": "markdown",
   "metadata": {},
   "source": [
    "# Putting it all together\n"
   ]
  },
  {
   "cell_type": "code",
   "execution_count": null,
   "metadata": {},
   "outputs": [],
   "source": [
    "Save_path = '/scratch/josue/Data/Data_Frames/Scaled/' # save path\n",
    "# checking if directory exist\n",
    "save_dir = os.path.isdir(Save_path) \n",
    "if save_dir == False:\n",
    "    print('Creating {}'.format(Save_path))\n",
    "    os.mkdir(Save_path)\n",
    "else:\n",
    "    print('{} already exists'.format(Save_path))"
   ]
  },
  {
   "cell_type": "markdown",
   "metadata": {},
   "source": [
    "# RGB color space"
   ]
  },
  {
   "cell_type": "code",
   "execution_count": null,
   "metadata": {},
   "outputs": [],
   "source": [
    "bands = ['Red','Green','Blue','Red_Green','Red_Blue','Green_Blue','Red_Green_Blue'] # list of bands\n",
    "for i in bands: # loops through bands\n",
    "    Training_Images,Training_Labels = create_data_frames(i,Training_list,Training_path) # calls create_data_frames\n",
    "    Test_Images,Test_Labels = create_data_frames(i,Testing_list,Test_path) # calls create_data_frames\n",
    "    Validation_Images, Validation_Labels = create_data_frames(i,Validation_list,Validation_path) # calls create_data_frames\n",
    "\n",
    "    save_path = Save_path+i+'/' # save path \n",
    "    save_dir = os.path.isdir(save_path) # save location\n",
    "    # checking if directory exist\n",
    "    if save_dir == False:\n",
    "        print('Creating {}'.format(save_path))\n",
    "        os.mkdir(save_path)\n",
    "    else:\n",
    "        print('{} already exists'.format(save_path))\n",
    "    # save data frame for training\n",
    "    joblib.dump(Training_Images.T,save_path+i+'_Band_Training_Images',compress=0) \n",
    "    print('Saving {} Band Training Images'.format(i))\n",
    "    joblib.dump(Training_Labels.T,save_path+i+'_Band_Training_Labels',compress=0)\n",
    "    print('Saving {} Band Training Labels'.format(i))\n",
    "    # save data frame for test\n",
    "    joblib.dump(Test_Images.T,save_path+i+'_Band_Test_Images',compress=0)\n",
    "    print('Saving {} Band Test Images'.format(i))\n",
    "    joblib.dump(Test_Labels.T,save_path+i+'_Band_Test_Labels',compress=0)\n",
    "    print('Saving {} Band Test Labels'.format(i))\n",
    "    # save data frame for validation\n",
    "    joblib.dump(Validation_Images.T,save_path+i+'_Band_Validation_Images',compress=0)\n",
    "    print('Saving {} Band Validation Images'.format(i))\n",
    "    joblib.dump(Validation_Labels.T,save_path+i+'_Band_Validation_Labels',compress=0)\n",
    "    print('Saving {} Band Validation Labels'.format(i))"
   ]
  },
  {
   "cell_type": "markdown",
   "metadata": {},
   "source": [
    "# HSV color space"
   ]
  },
  {
   "cell_type": "code",
   "execution_count": null,
   "metadata": {},
   "outputs": [],
   "source": [
    "bands = ['Hue','Saturation','Value','Hue_Saturation','Hue_Value','Saturation_Value','Hue_Saturation_Value'] # list of bands\n",
    "for i in bands: # loops through bands\n",
    "    Training_Images,Training_Labels = create_data_frames(i,Training_list,Training_path) # calls create_data_frames\n",
    "    Test_Images,Test_Labels = create_data_frames(i,Testing_list,Test_path) # calls create_data_frames\n",
    "    Validation_Images, Validation_Labels = create_data_frames(i,Validation_list,Validation_path) # calls create_data_frames\n",
    "\n",
    "    save_path = Save_path+i+'/' # save path \n",
    "    save_dir = os.path.isdir(save_path) # save location\n",
    "    # checking if directory exist\n",
    "    if save_dir == False:\n",
    "        print('Creating {}'.format(save_path))\n",
    "        os.mkdir(save_path)\n",
    "    else:\n",
    "        print('{} already exists'.format(save_path))\n",
    "    # save data frame for training   \n",
    "    joblib.dump(Training_Images.T,save_path+i+'_Band_Training_Images',compress=0)\n",
    "    print('Saving ä¨ Band Training Images'.format(i))\n",
    "    joblib.dump(Training_Labels.T,save_path+i+'_Band_Training_Labels',compress=0)\n",
    "    print('Saving ä¨ Band Training Labels'.format(i))\n",
    "    # save data frame for test\n",
    "    joblib.dump(Test_Images.T,save_path+i+'_Band_Test_Images',compress=0)\n",
    "    print('Saving ä¨ Band Test Images'.format(i))\n",
    "    joblib.dump(Test_Labels.T,save_path+i+'_Band_Test_Labels',compress=0)\n",
    "    print('Saving ä¨ Band Test Labels'.format(i))\n",
    "    # save data frame for validation\n",
    "    joblib.dump(Validation_Images.T,save_path+i+'_Band_Validation_Images',compress=0)\n",
    "    print('Saving ä¨ Band Validation Images'.format(i))\n",
    "    joblib.dump(Validation_Labels.T,save_path+i+'_Band_Validation_Labels',compress=0)\n",
    "    print('Saving ä¨ Band Validation Labels'.format(i))"
   ]
  }
 ],
 "metadata": {
  "kernelspec": {
   "display_name": "Python 3",
   "language": "python",
   "name": "python3"
  },
  "language_info": {
   "codemirror_mode": {
    "name": "ipython",
    "version": 3
   },
   "file_extension": ".py",
   "mimetype": "text/x-python",
   "name": "python",
   "nbconvert_exporter": "python",
   "pygments_lexer": "ipython3",
   "version": "3.7.4"
  }
 },
 "nbformat": 4,
 "nbformat_minor": 2
}
