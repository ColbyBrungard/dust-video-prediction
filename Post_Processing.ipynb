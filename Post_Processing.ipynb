{
 "cells": [
  {
   "cell_type": "code",
   "execution_count": null,
   "metadata": {},
   "outputs": [],
   "source": [
    "import os \n",
    "import numpy as np\n",
    "import matplotlib.pyplot as plt\n",
    "from sklearn.externals import joblib\n",
    "from sklearn.metrics import confusion_matrix"
   ]
  },
  {
   "cell_type": "code",
   "execution_count": null,
   "metadata": {},
   "outputs": [],
   "source": [
    "path = '/Users/josue/Desktop/Desktop Temp/Thesis/Outputs/output 2/' # path to output data\n",
    "files = os.listdir(path) # list contents of directory \n",
    "print(len(files))\n",
    "print(files)"
   ]
  },
  {
   "cell_type": "markdown",
   "metadata": {},
   "source": [
    "plot_acc plots accuracy for each iteration"
   ]
  },
  {
   "cell_type": "code",
   "execution_count": null,
   "metadata": {},
   "outputs": [],
   "source": [
    "def plot_acc(acc,i): \n",
    "    plt.figure(figsize=(9,3)) # set figure size\n",
    "    plt.plot(range(len(acc)),acc) # plot accuracy \n",
    "    plt.title('{} Training Accuracy '.format(i)) # set title\n",
    "    plt.xlabel('Iterations') # set xlabel"
   ]
  },
  {
   "cell_type": "markdown",
   "metadata": {},
   "source": [
    "# Get accuracy vs iteration plots"
   ]
  },
  {
   "cell_type": "code",
   "execution_count": null,
   "metadata": {},
   "outputs": [],
   "source": [
    "for i in files: # loop through files\n",
    "    cm_dir = path+i+'/confusion_matrix' # confusion matrix dirctory\n",
    "    cm_files = os.listdir(cm_dir) # list contents of cm_dir\n",
    "    cm_files.sort() # sort context of cm_files\n",
    "    acc = [] # empty accuracy array\n",
    "    cnt = 0 # counter \n",
    "    for j in cm_files: # loop through all cm_files \n",
    "        file = path+i+'/confusion_matrix/'+j # confusion matrix file \n",
    "        cm = np.load(file) # load confusion matrix\n",
    "        temp = np.reshape(cm,4) # reshape confusion matrix\n",
    "        accuracy = (temp[0]+temp[3])/np.sum(temp) # calculate accuracy\n",
    "        acc.append(accuracy) # append accuracy \n",
    "        cnt += 1 # increase counter \n",
    "    plot_acc(acc,i) # plot accuracy "
   ]
  },
  {
   "cell_type": "markdown",
   "metadata": {},
   "source": [
    "# Get overall report"
   ]
  },
  {
   "cell_type": "code",
   "execution_count": null,
   "metadata": {},
   "outputs": [],
   "source": [
    "for i in files: # loop through files\n",
    "    val_acc = []  # empty accuracy array\n",
    "    val_recall = []  # empty recall array\n",
    "    val_precision = []  # empty precision array\n",
    "    val_list = path+i+'/validation/' # validation list\n",
    "    val_files = os.listdir(val_list) # # list contents of val_list\n",
    "    val_files.sort() # sort context of val_files\n",
    "    print(' ') # print empty line to create space\n",
    "    print(i) # print current file\n",
    "    for j in val_files: # loop through val_files\n",
    "        val = np.load(val_list+j) # load confusion matrix \n",
    "        temp = np.reshape(val,4) # reshape val\n",
    "        accuracy = (temp[0]+temp[3])/np.sum(temp) # calculate accuracy \n",
    "        val_acc.append(accuracy)\n",
    "        recall = float((temp[-1])/(temp[-1]+temp[-2])) # calculate recall\n",
    "        val_recall.append(recall) \n",
    "        precision = float((temp[-1])/(temp[-1]+temp[-3])) # calculate precision\n",
    "        val_precision.append(precision)\n",
    "        \n",
    "    index = np.argmax(val_acc) # find maximum accuracy in val_acc\n",
    "    print('Best validation accrucary for {} at {}'.format(i,val_acc[index]))\n",
    "    print('Validation recall for {} at {}'.format(i,val_recall[index]))\n",
    "    print('Validation precision for {} at {}'.format(i,val_precision[index]))\n",
    "    print('Index for results are {}'.format(index))"
   ]
  },
  {
   "cell_type": "markdown",
   "metadata": {},
   "source": [
    "# View a specific confusion matrix "
   ]
  },
  {
   "cell_type": "code",
   "execution_count": null,
   "metadata": {},
   "outputs": [],
   "source": [
    "com_mat = path+i+'/confusion_matrix/cm_0055.npy' # path to confusion matrix\n",
    "cm = np.load(com_mat) # laod confusion matrix\n",
    "print(cm)\n",
    "\n",
    "# ##### CONFUSION MATRIX ##\n",
    "# ########################\n",
    "# ###   TN    FP   ###\n",
    "# ###   FN    TP   ###\n",
    "# ########################"
   ]
  },
  {
   "cell_type": "code",
   "execution_count": null,
   "metadata": {},
   "outputs": [],
   "source": []
  }
 ],
 "metadata": {
  "kernelspec": {
   "display_name": "Python 3",
   "language": "python",
   "name": "python3"
  },
  "language_info": {
   "codemirror_mode": {
    "name": "ipython",
    "version": 3
   },
   "file_extension": ".py",
   "mimetype": "text/x-python",
   "name": "python",
   "nbconvert_exporter": "python",
   "pygments_lexer": "ipython3",
   "version": "3.7.4"
  }
 },
 "nbformat": 4,
 "nbformat_minor": 2
}
